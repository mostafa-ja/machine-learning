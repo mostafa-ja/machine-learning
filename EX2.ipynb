{
  "nbformat": 4,
  "nbformat_minor": 0,
  "metadata": {
    "colab": {
      "name": "EX2.ipynb",
      "provenance": [],
      "collapsed_sections": [],
      "toc_visible": true,
      "authorship_tag": "ABX9TyO550lWobf18zALej8k1GYK",
      "include_colab_link": true
    },
    "kernelspec": {
      "display_name": "Python 3",
      "name": "python3"
    }
  },
  "cells": [
    {
      "cell_type": "markdown",
      "metadata": {
        "id": "view-in-github",
        "colab_type": "text"
      },
      "source": [
        "<a href=\"https://colab.research.google.com/github/mostafa-ja/machine-learning/blob/main/EX2.ipynb\" target=\"_parent\"><img src=\"https://colab.research.google.com/assets/colab-badge.svg\" alt=\"Open In Colab\"/></a>"
      ]
    },
    {
      "cell_type": "code",
      "metadata": {
        "id": "TY8QpLH4PK_U"
      },
      "source": [
        "import pandas as pd\r\n",
        "import numpy as np\r\n",
        "import matplotlib.pyplot as plt\r\n"
      ],
      "execution_count": 1,
      "outputs": []
    },
    {
      "cell_type": "code",
      "metadata": {
        "colab": {
          "base_uri": "https://localhost:8080/"
        },
        "id": "wfct-blSjqgD",
        "outputId": "a62bd297-e111-4084-94fa-62b1e3f2462a"
      },
      "source": [
        "dataset=pd.read_csv('ex2data1.txt',header=None)\r\n",
        "dataset.keys()"
      ],
      "execution_count": 2,
      "outputs": [
        {
          "output_type": "execute_result",
          "data": {
            "text/plain": [
              "Int64Index([0, 1, 2], dtype='int64')"
            ]
          },
          "metadata": {
            "tags": []
          },
          "execution_count": 2
        }
      ]
    },
    {
      "cell_type": "code",
      "metadata": {
        "id": "7jEB5GdXj97r"
      },
      "source": [
        "x=dataset.iloc[:,:-1].values\r\n",
        "y=dataset.iloc[:,-1].values\r\n",
        "Y=y[:,np.newaxis]"
      ],
      "execution_count": 3,
      "outputs": []
    },
    {
      "cell_type": "code",
      "metadata": {
        "colab": {
          "base_uri": "https://localhost:8080/",
          "height": 283
        },
        "id": "4mZxO7wqkP-F",
        "outputId": "1e9822c4-65d9-42cd-b726-02953a096267"
      },
      "source": [
        "neg=(y==0)   # because of defining neg&pos we didnt convert y t0 2D,we use Y as a 2D of y\r\n",
        "pos=(y==1)\r\n",
        "plt.scatter(x[pos,0],x[pos,1],marker='+')\r\n",
        "plt.scatter(x[neg,0],x[neg,1],marker='o')\r\n"
      ],
      "execution_count": 4,
      "outputs": [
        {
          "output_type": "execute_result",
          "data": {
            "text/plain": [
              "<matplotlib.collections.PathCollection at 0x7f7ad6899320>"
            ]
          },
          "metadata": {
            "tags": []
          },
          "execution_count": 4
        },
        {
          "output_type": "display_data",
          "data": {
            "image/png": "[encoded data removed]",
            "text/plain": [
              "<Figure size 432x288 with 1 Axes>"
            ]
          },
          "metadata": {
            "tags": [],
            "needs_background": "light"
          }
        }
      ]
    },
    {
      "cell_type": "code",
      "metadata": {
        "id": "hFgHfg6clOkb"
      },
      "source": [
        "def sigmoid(z):\r\n",
        "  return (1/(1+np.exp(-z)))"
      ],
      "execution_count": 5,
      "outputs": []
    },
    {
      "cell_type": "code",
      "metadata": {
        "id": "s7RQXrA-l2ld"
      },
      "source": [
        "def costFunc(X,y,theta,landa):\r\n",
        "  m=y.shape[0]\r\n",
        "  h=sigmoid(np.dot(X,theta))\r\n",
        "  J=np.sum(-y*np.log(h)-(1-y)*np.log(1-h))/m +(landa/(2*m)) * np.sum(theta[1:]**2)\r\n",
        "  grad1=(np.dot(X.T,h-y)/m)\r\n",
        "  grad2=np.dot(X.T,h-y)/m + (landa/m)*theta\r\n",
        "  grad = np.vstack((grad1[0],grad2[1:]))\r\n",
        "\r\n",
        "  return J,grad"
      ],
      "execution_count": 6,
      "outputs": []
    },
    {
      "cell_type": "code",
      "metadata": {
        "id": "n90uux-9HF8W"
      },
      "source": [
        "def normalize(X):       # ATTENTION: how we substract a matrix and a vector\r\n",
        "  mu=np.mean(X,axis=0)  # every column of each matrix do (- or / or ..) with column of the other\r\n",
        "  std=np.std(X,axis=0)\r\n",
        "  norm=(X-mu)/std\r\n",
        "  return norm,mu,std"
      ],
      "execution_count": 7,
      "outputs": []
    },
    {
      "cell_type": "code",
      "metadata": {
        "colab": {
          "base_uri": "https://localhost:8080/"
        },
        "id": "ooNbiQDsqb-L",
        "outputId": "13185fd1-4440-42f1-d098-791d766a174c"
      },
      "source": [
        "x_norm,mu,std=normalize(x)\r\n",
        "X=np.hstack((np.ones((x_norm.shape[0],1)),x_norm))\r\n",
        "initial_theta=np.zeros((X.shape[1],1))\r\n",
        "costFunc(X,Y,initial_theta,landa=0)"
      ],
      "execution_count": 8,
      "outputs": [
        {
          "output_type": "execute_result",
          "data": {
            "text/plain": [
              "(0.6931471805599453, array([[-0.1       ],\n",
              "        [-0.28122914],\n",
              "        [-0.25098615]]))"
            ]
          },
          "metadata": {
            "tags": []
          },
          "execution_count": 8
        }
      ]
    },
    {
      "cell_type": "code",
      "metadata": {
        "id": "B43MJD_LB9rb"
      },
      "source": [
        "def gradientDescent(X,y,theta,landa,alpha,iter):\r\n",
        "  J_history=[]\r\n",
        "  for i in range(iter):\r\n",
        "    J,grad = costFunc(X,y,theta,landa)\r\n",
        "    theta-=alpha*grad\r\n",
        "    J_history.append(J)\r\n",
        "\r\n",
        "  return theta,J_history"
      ],
      "execution_count": 9,
      "outputs": []
    },
    {
      "cell_type": "code",
      "metadata": {
        "id": "3xi5nxRXFIVF"
      },
      "source": [
        "landa=0\r\n",
        "alpha=0.1\r\n",
        "iter=400\r\n",
        "theta,J_history=gradientDescent(X,Y,initial_theta,landa,alpha,iter)"
      ],
      "execution_count": 10,
      "outputs": []
    },
    {
      "cell_type": "code",
      "metadata": {
        "colab": {
          "base_uri": "https://localhost:8080/"
        },
        "id": "MTbtD_TJGDo9",
        "outputId": "84a5ff07-e165-42f7-e43d-860a41feaf6e"
      },
      "source": [
        "print(theta)\r\n",
        "print(J_history[-1])"
      ],
      "execution_count": 11,
      "outputs": [
        {
          "output_type": "stream",
          "text": [
            "[[0.91957931]\n",
            " [2.31346472]\n",
            " [2.10825197]]\n",
            "0.23135318871357946\n"
          ],
          "name": "stdout"
        }
      ]
    },
    {
      "cell_type": "code",
      "metadata": {
        "colab": {
          "base_uri": "https://localhost:8080/",
          "height": 283
        },
        "id": "bDkiYcPbNpXy",
        "outputId": "16c38854-08d2-4d44-ef3a-b2bbd08750cc"
      },
      "source": [
        "u=np.array([np.min(x_norm),np.max(x_norm)])\r\n",
        "v=-(theta[0]+theta[1]*u)/theta[2]\r\n",
        "plt.plot(u,v)\r\n",
        "plt.scatter(x_norm[pos,0],x_norm[pos,1],marker='+')\r\n",
        "plt.scatter(x_norm[neg,0],x_norm[neg,1],marker='o')"
      ],
      "execution_count": 12,
      "outputs": [
        {
          "output_type": "execute_result",
          "data": {
            "text/plain": [
              "<matplotlib.collections.PathCollection at 0x7f7ad6386438>"
            ]
          },
          "metadata": {
            "tags": []
          },
          "execution_count": 12
        },
        {
          "output_type": "display_data",
          "data": {
            "image/png": "[encoded data removed]",
            "text/plain": [
              "<Figure size 432x288 with 1 Axes>"
            ]
          },
          "metadata": {
            "tags": [],
            "needs_background": "light"
          }
        }
      ]
    },
    {
      "cell_type": "code",
      "metadata": {
        "colab": {
          "base_uri": "https://localhost:8080/",
          "height": 283
        },
        "id": "HoQg4EMnbO88",
        "outputId": "61c54903-7141-4eab-adc4-9863f2649752"
      },
      "source": [
        "# without normalize\r\n",
        "U=u*std+mu\r\n",
        "V=v*std+mu\r\n",
        "plt.plot(U,V)\r\n",
        "plt.scatter(x[pos,0],x[pos,1],marker='+')\r\n",
        "plt.scatter(x[neg,0],x[neg,1],marker='o')\r\n"
      ],
      "execution_count": 13,
      "outputs": [
        {
          "output_type": "execute_result",
          "data": {
            "text/plain": [
              "<matplotlib.collections.PathCollection at 0x7f7ad6369b70>"
            ]
          },
          "metadata": {
            "tags": []
          },
          "execution_count": 13
        },
        {
          "output_type": "display_data",
          "data": {
            "image/png": "[encoded data removed]",
            "text/plain": [
              "<Figure size 432x288 with 1 Axes>"
            ]
          },
          "metadata": {
            "tags": [],
            "needs_background": "light"
          }
        }
      ]
    },
    {
      "cell_type": "code",
      "metadata": {
        "colab": {
          "base_uri": "https://localhost:8080/"
        },
        "id": "lehlvzgudwOO",
        "outputId": "689943aa-b621-408d-e657-ff58c62da14b"
      },
      "source": [
        "theta.shape"
      ],
      "execution_count": 14,
      "outputs": [
        {
          "output_type": "execute_result",
          "data": {
            "text/plain": [
              "(3, 1)"
            ]
          },
          "metadata": {
            "tags": []
          },
          "execution_count": 14
        }
      ]
    },
    {
      "cell_type": "code",
      "metadata": {
        "id": "CHaHE9UscWW_"
      },
      "source": [
        "#prediction\r\n",
        "user=np.array([45,85])\r\n",
        "user_norm=(user-mu)/std\r\n",
        "user_norm1=np.hstack(([1],user_norm))\r\n",
        "prob=sigmoid(np.dot(user_norm1,theta))"
      ],
      "execution_count": 15,
      "outputs": []
    },
    {
      "cell_type": "code",
      "metadata": {
        "colab": {
          "base_uri": "https://localhost:8080/"
        },
        "id": "a529tnXDeDwM",
        "outputId": "3d9a26f1-8094-451f-c8b5-312bea8e0732"
      },
      "source": [
        "prob"
      ],
      "execution_count": 16,
      "outputs": [
        {
          "output_type": "execute_result",
          "data": {
            "text/plain": [
              "array([0.64425203])"
            ]
          },
          "metadata": {
            "tags": []
          },
          "execution_count": 16
        }
      ]
    },
    {
      "cell_type": "code",
      "metadata": {
        "id": "jbn-95ZfgYbf"
      },
      "source": [
        "#accuracy\r\n",
        "\r\n",
        "def classifierPredict(X,theta):\r\n",
        "  prediction=np.dot(X,theta)\r\n",
        "  return prediction > 0"
      ],
      "execution_count": 17,
      "outputs": []
    },
    {
      "cell_type": "code",
      "metadata": {
        "colab": {
          "base_uri": "https://localhost:8080/"
        },
        "id": "vO84N0u3gsdF",
        "outputId": "5c26ace0-b29d-4810-a712-9eace28e6439"
      },
      "source": [
        "P=classifierPredict(X,theta)\r\n",
        "accuracy=np.mean(P==Y)\r\n",
        "print(accuracy)"
      ],
      "execution_count": 18,
      "outputs": [
        {
          "output_type": "stream",
          "text": [
            "0.9\n"
          ],
          "name": "stdout"
        }
      ]
    },
    {
      "cell_type": "code",
      "metadata": {
        "id": "nw3a6jefhIlY"
      },
      "source": [
        ""
      ],
      "execution_count": 18,
      "outputs": []
    },
    {
      "cell_type": "markdown",
      "metadata": {
        "id": "PrTLeX_QhJxh"
      },
      "source": [
        "### **PART 2**"
      ]
    },
    {
      "cell_type": "code",
      "metadata": {
        "colab": {
          "base_uri": "https://localhost:8080/"
        },
        "id": "8HLIdRPzhk4F",
        "outputId": "087f55ef-e169-4521-f5c3-8950ac6b0743"
      },
      "source": [
        "dataset2=pd.read_csv('ex2data2.txt',header=None)\r\n",
        "dataset2.keys()"
      ],
      "execution_count": 19,
      "outputs": [
        {
          "output_type": "execute_result",
          "data": {
            "text/plain": [
              "Int64Index([0, 1, 2], dtype='int64')"
            ]
          },
          "metadata": {
            "tags": []
          },
          "execution_count": 19
        }
      ]
    },
    {
      "cell_type": "code",
      "metadata": {
        "id": "gDw_R0iXhNTi"
      },
      "source": [
        "x=dataset2.iloc[:,:-1].values\r\n",
        "y=dataset2.iloc[:,-1].values\r\n",
        "Y=y[:,np.newaxis]"
      ],
      "execution_count": 20,
      "outputs": []
    },
    {
      "cell_type": "code",
      "metadata": {
        "colab": {
          "base_uri": "https://localhost:8080/",
          "height": 283
        },
        "id": "hx4tJcMOhpda",
        "outputId": "a33a11a2-f5dd-4607-e97c-8d84f606ce46"
      },
      "source": [
        "neg=(y==0)   # because of defining neg&pos we didnt convert y t0 2D,we use Y as a 2D of y\r\n",
        "pos=(y==1)\r\n",
        "plt.scatter(x[pos,0],x[pos,1],marker='+')\r\n",
        "plt.scatter(x[neg,0],x[neg,1],marker='o')\r\n"
      ],
      "execution_count": 21,
      "outputs": [
        {
          "output_type": "execute_result",
          "data": {
            "text/plain": [
              "<matplotlib.collections.PathCollection at 0x7f7ad62e54e0>"
            ]
          },
          "metadata": {
            "tags": []
          },
          "execution_count": 21
        },
        {
          "output_type": "display_data",
          "data": {
            "image/png": "[encoded data removed]",
            "text/plain": [
              "<Figure size 432x288 with 1 Axes>"
            ]
          },
          "metadata": {
            "tags": [],
            "needs_background": "light"
          }
        }
      ]
    },
    {
      "cell_type": "code",
      "metadata": {
        "id": "M6-AOsCWh2pQ"
      },
      "source": [
        "def mapFeature(x1,x2,degree):\r\n",
        "  x1=x1[:,np.newaxis] # must change to 2D\r\n",
        "  x2=x2[:,np.newaxis]\r\n",
        "  feature=np.zeros(x1.shape)\r\n",
        "  for i in range(0,degree+1):   #always i+j=6\r\n",
        "    for j in range(degree+1-i):\r\n",
        "      feature=np.hstack((feature,(x1**i)*(x2**j)))\r\n",
        "      \r\n",
        "  return feature[:,1:]   # we already add a column of zeros to feature and noe we eliminate that"
      ],
      "execution_count": 22,
      "outputs": []
    },
    {
      "cell_type": "code",
      "metadata": {
        "colab": {
          "base_uri": "https://localhost:8080/"
        },
        "id": "un7g1anWnzhO",
        "outputId": "80e20f8f-ac60-4d1c-8dfe-e2b5d44d83d1"
      },
      "source": [
        "X=mapFeature(x[:,0],x[:,1],6)\r\n",
        "initial_theta=np.zeros((X.shape[1],1))\r\n",
        "landa=1\r\n",
        "J,grad = costFunc(X,Y,initial_theta,landa)\r\n",
        "print(J)"
      ],
      "execution_count": 23,
      "outputs": [
        {
          "output_type": "stream",
          "text": [
            "0.6931471805599454\n"
          ],
          "name": "stdout"
        }
      ]
    },
    {
      "cell_type": "code",
      "metadata": {
        "id": "JCyGMjVyoQL5"
      },
      "source": [
        "landa=1\r\n",
        "alpha=0.3\r\n",
        "iter=800\r\n",
        "theta,J_history=gradientDescent(X,Y,initial_theta,landa,alpha,iter)"
      ],
      "execution_count": 24,
      "outputs": []
    },
    {
      "cell_type": "code",
      "metadata": {
        "colab": {
          "base_uri": "https://localhost:8080/"
        },
        "id": "aLosrCOMqHGe",
        "outputId": "0b8131ed-42d5-4596-a3e5-268fb9f9fe73"
      },
      "source": [
        "J_history[-1]"
      ],
      "execution_count": 25,
      "outputs": [
        {
          "output_type": "execute_result",
          "data": {
            "text/plain": [
              "0.5291382812507537"
            ]
          },
          "metadata": {
            "tags": []
          },
          "execution_count": 25
        }
      ]
    },
    {
      "cell_type": "code",
      "metadata": {
        "colab": {
          "base_uri": "https://localhost:8080/",
          "height": 286
        },
        "id": "65TIeAc7oeJZ",
        "outputId": "71b24f3f-b751-49c5-89f7-11b9cf432a13"
      },
      "source": [
        "plt.plot(J_history)"
      ],
      "execution_count": 26,
      "outputs": [
        {
          "output_type": "execute_result",
          "data": {
            "text/plain": [
              "[<matplotlib.lines.Line2D at 0x7f7ad62576a0>]"
            ]
          },
          "metadata": {
            "tags": []
          },
          "execution_count": 26
        },
        {
          "output_type": "display_data",
          "data": {
            "image/png": "[encoded data removed]",
            "text/plain": [
              "<Figure size 432x288 with 1 Axes>"
            ]
          },
          "metadata": {
            "tags": [],
            "needs_background": "light"
          }
        }
      ]
    },
    {
      "cell_type": "code",
      "metadata": {
        "colab": {
          "base_uri": "https://localhost:8080/"
        },
        "id": "Qjol4R0GNVKe",
        "outputId": "e066825f-9d4e-4fae-bece-59e8c2e08da7"
      },
      "source": [
        "P=classifierPredict(X,theta)\r\n",
        "accuracy=np.mean(P==Y)\r\n",
        "print(accuracy)"
      ],
      "execution_count": 27,
      "outputs": [
        {
          "output_type": "stream",
          "text": [
            "0.8305084745762712\n"
          ],
          "name": "stdout"
        }
      ]
    },
    {
      "cell_type": "code",
      "metadata": {
        "colab": {
          "base_uri": "https://localhost:8080/",
          "height": 283
        },
        "id": "yGUxlccCrU_z",
        "outputId": "04b727fd-439f-4e68-ae9d-3f0afc176abe"
      },
      "source": [
        "uu,vv=np.meshgrid(np.linspace(-1,1,20),np.linspace(-1,1,20))\r\n",
        "XX=mapFeature(uu.ravel(),vv.ravel(),6)\r\n",
        "Z=np.dot(XX,theta).reshape(uu.shape)\r\n",
        "plt.contour(uu,vv,Z,0)\r\n",
        "plt.scatter(x[pos,0],x[pos,1],marker='+')\r\n",
        "plt.scatter(x[neg,0],x[neg,1],marker='o')"
      ],
      "execution_count": 28,
      "outputs": [
        {
          "output_type": "execute_result",
          "data": {
            "text/plain": [
              "<matplotlib.collections.PathCollection at 0x7f7acd9c3c50>"
            ]
          },
          "metadata": {
            "tags": []
          },
          "execution_count": 28
        },
        {
          "output_type": "display_data",
          "data": {
            "image/png": "[encoded data removed]",
            "text/plain": [
              "<Figure size 432x288 with 1 Axes>"
            ]
          },
          "metadata": {
            "tags": [],
            "needs_background": "light"
          }
        }
      ]
    },
    {
      "cell_type": "code",
      "metadata": {
        "id": "UwUGKy46WQnM"
      },
      "source": [
        "landa=100\r\n",
        "alpha=0.2\r\n",
        "iter=800\r\n",
        "theta,J_history=gradientDescent(X,Y,initial_theta,landa,alpha,iter)"
      ],
      "execution_count": 29,
      "outputs": []
    },
    {
      "cell_type": "code",
      "metadata": {
        "colab": {
          "base_uri": "https://localhost:8080/"
        },
        "id": "74ZifVyZWseT",
        "outputId": "d2bfdbf3-983b-41b3-a611-b2ca5744f74f"
      },
      "source": [
        "P=classifierPredict(X,theta)\r\n",
        "accuracy=np.mean(P==Y)\r\n",
        "print(accuracy)"
      ],
      "execution_count": 30,
      "outputs": [
        {
          "output_type": "stream",
          "text": [
            "0.6101694915254238\n"
          ],
          "name": "stdout"
        }
      ]
    },
    {
      "cell_type": "code",
      "metadata": {
        "colab": {
          "base_uri": "https://localhost:8080/",
          "height": 283
        },
        "id": "rP-IVLjeWZj0",
        "outputId": "87bf9c97-9200-4018-9e6b-e9ab8d61c9b5"
      },
      "source": [
        "uu,vv=np.meshgrid(np.linspace(-1,1,20),np.linspace(-1,1,20))\r\n",
        "XX=mapFeature(uu.ravel(),vv.ravel(),6)\r\n",
        "Z=np.dot(XX,theta).reshape(uu.shape)\r\n",
        "plt.contour(uu,vv,Z,0)\r\n",
        "plt.scatter(x[pos,0],x[pos,1],marker='+')\r\n",
        "plt.scatter(x[neg,0],x[neg,1],marker='o')"
      ],
      "execution_count": 31,
      "outputs": [
        {
          "output_type": "execute_result",
          "data": {
            "text/plain": [
              "<matplotlib.collections.PathCollection at 0x7f7acd7319b0>"
            ]
          },
          "metadata": {
            "tags": []
          },
          "execution_count": 31
        },
        {
          "output_type": "display_data",
          "data": {
            "image/png": "[encoded data removed]",
            "text/plain": [
              "<Figure size 432x288 with 1 Axes>"
            ]
          },
          "metadata": {
            "tags": [],
            "needs_background": "light"
          }
        }
      ]
    },
    {
      "cell_type": "code",
      "metadata": {
        "id": "CUaINyMGYRd7"
      },
      "source": [
        ""
      ],
      "execution_count": 31,
      "outputs": []
    },
    {
      "cell_type": "markdown",
      "metadata": {
        "id": "ZcCxi2dVYUR-"
      },
      "source": [
        "### **QUICK WAY**"
      ]
    },
    {
      "cell_type": "code",
      "metadata": {
        "id": "tT8TYkvMYZDm"
      },
      "source": [
        "dataset=pd.read_csv('ex2data1.txt',header=None)\r\n",
        "X=dataset.iloc[:,:-1].values\r\n",
        "y=dataset.iloc[:,-1].values\r\n",
        "Y=y[:,np.newaxis]"
      ],
      "execution_count": 32,
      "outputs": []
    },
    {
      "cell_type": "code",
      "metadata": {
        "id": "IP-PutmRif0r"
      },
      "source": [
        "from sklearn.preprocessing import StandardScaler\r\n",
        "sc=StandardScaler()\r\n",
        "X_norm=sc.fit_transform(X)"
      ],
      "execution_count": 33,
      "outputs": []
    },
    {
      "cell_type": "code",
      "metadata": {
        "colab": {
          "base_uri": "https://localhost:8080/"
        },
        "id": "MQKN9jHri8IE",
        "outputId": "4c7c6a2e-d877-4f4b-ed45-1b3846a8ad9f"
      },
      "source": [
        "from sklearn.linear_model import LogisticRegression\r\n",
        "classifier=LogisticRegression()\r\n",
        "classifier.fit(X_norm,y) ## better use y 1D instead of Y 2"
      ],
      "execution_count": 34,
      "outputs": [
        {
          "output_type": "execute_result",
          "data": {
            "text/plain": [
              "LogisticRegression(C=1.0, class_weight=None, dual=False, fit_intercept=True,\n",
              "                   intercept_scaling=1, l1_ratio=None, max_iter=100,\n",
              "                   multi_class='auto', n_jobs=None, penalty='l2',\n",
              "                   random_state=None, solver='lbfgs', tol=0.0001, verbose=0,\n",
              "                   warm_start=False)"
            ]
          },
          "metadata": {
            "tags": []
          },
          "execution_count": 34
        }
      ]
    },
    {
      "cell_type": "code",
      "metadata": {
        "colab": {
          "base_uri": "https://localhost:8080/"
        },
        "id": "pCUh1UK9j2Ez",
        "outputId": "963ecf65-54e1-43f0-cf51-bbccce5bc95f"
      },
      "source": [
        "classifier.coef_"
      ],
      "execution_count": 35,
      "outputs": [
        {
          "output_type": "execute_result",
          "data": {
            "text/plain": [
              "array([[2.28481793, 2.09157835]])"
            ]
          },
          "metadata": {
            "tags": []
          },
          "execution_count": 35
        }
      ]
    },
    {
      "cell_type": "code",
      "metadata": {
        "colab": {
          "base_uri": "https://localhost:8080/"
        },
        "id": "ICzehiC_j95X",
        "outputId": "e3ee4b00-779a-44ce-e9b2-9bd0cd69948d"
      },
      "source": [
        "classifier.intercept_"
      ],
      "execution_count": 36,
      "outputs": [
        {
          "output_type": "execute_result",
          "data": {
            "text/plain": [
              "array([1.00244111])"
            ]
          },
          "metadata": {
            "tags": []
          },
          "execution_count": 36
        }
      ]
    },
    {
      "cell_type": "code",
      "metadata": {
        "colab": {
          "base_uri": "https://localhost:8080/",
          "height": 283
        },
        "id": "sLwMBYkbkSSU",
        "outputId": "6345e305-c459-49bd-804d-8b4409b774ea"
      },
      "source": [
        "u=np.array([np.min(X_norm),np.max(X_norm)])\r\n",
        "v=-(classifier.intercept_[0]+classifier.coef_[0,0]*u)/classifier.coef_[0,1]\r\n",
        "plt.plot(u,v)\r\n",
        "neg=(y==0)   # because of defining neg&pos we didnt convert y t0 2D,we use Y as a 2D of y\r\n",
        "pos=(y==1)\r\n",
        "plt.scatter(X_norm[pos,0],X_norm[pos,1],marker='+')\r\n",
        "plt.scatter(X_norm[neg,0],X_norm[neg,1],marker='o')"
      ],
      "execution_count": 37,
      "outputs": [
        {
          "output_type": "execute_result",
          "data": {
            "text/plain": [
              "<matplotlib.collections.PathCollection at 0x7f7abc2a0278>"
            ]
          },
          "metadata": {
            "tags": []
          },
          "execution_count": 37
        },
        {
          "output_type": "display_data",
          "data": {
            "image/png": "[encoded data removed]",
            "text/plain": [
              "<Figure size 432x288 with 1 Axes>"
            ]
          },
          "metadata": {
            "tags": [],
            "needs_background": "light"
          }
        }
      ]
    },
    {
      "cell_type": "code",
      "metadata": {
        "colab": {
          "base_uri": "https://localhost:8080/"
        },
        "id": "XTy4ty_0lCq7",
        "outputId": "463c840b-bfcd-4267-daa2-872bcba36aa9"
      },
      "source": [
        "P=classifier.predict(X_norm) \r\n",
        "accuracy=np.mean(P==y)   # we use y(1D) because P is 1D\r\n",
        "print(accuracy)"
      ],
      "execution_count": 38,
      "outputs": [
        {
          "output_type": "stream",
          "text": [
            "0.89\n"
          ],
          "name": "stdout"
        }
      ]
    },
    {
      "cell_type": "code",
      "metadata": {
        "colab": {
          "base_uri": "https://localhost:8080/"
        },
        "id": "SMXZagQolv9U",
        "outputId": "9480206f-1fbe-475e-a60f-d90ef2d6f028"
      },
      "source": [
        "#prediction\r\n",
        "user=np.array([[45,85]])  # must be always 2D for prediction \r\n",
        "user_norm = sc.transform(user)\r\n",
        "prediction = classifier.predict(user_norm) \r\n",
        "probabality = classifier.predict_proba(user_norm)\r\n",
        "print(prediction)\r\n",
        "print(probabality)\r\n"
      ],
      "execution_count": 39,
      "outputs": [
        {
          "output_type": "stream",
          "text": [
            "[1]\n",
            "[[0.33395707 0.66604293]]\n"
          ],
          "name": "stdout"
        }
      ]
    },
    {
      "cell_type": "code",
      "metadata": {
        "id": "J34eik-hmNzM"
      },
      "source": [
        ""
      ],
      "execution_count": 39,
      "outputs": []
    },
    {
      "cell_type": "markdown",
      "metadata": {
        "id": "ZIVcDGHEm-dK"
      },
      "source": [
        "### **SECOUND PART**"
      ]
    },
    {
      "cell_type": "code",
      "metadata": {
        "colab": {
          "base_uri": "https://localhost:8080/"
        },
        "id": "BuKRpZdGnCMn",
        "outputId": "900a943f-fe32-4050-89e4-9915a8e40741"
      },
      "source": [
        "dataset2=pd.read_csv('ex2data2.txt',header=None)\r\n",
        "dataset2.keys()"
      ],
      "execution_count": 40,
      "outputs": [
        {
          "output_type": "execute_result",
          "data": {
            "text/plain": [
              "Int64Index([0, 1, 2], dtype='int64')"
            ]
          },
          "metadata": {
            "tags": []
          },
          "execution_count": 40
        }
      ]
    },
    {
      "cell_type": "code",
      "metadata": {
        "id": "vdaFedOEnI85"
      },
      "source": [
        "X=dataset2.iloc[:,:-1].values\r\n",
        "y=dataset2.iloc[:,-1].values\r\n",
        "Y=y[:,np.newaxis]"
      ],
      "execution_count": 41,
      "outputs": []
    },
    {
      "cell_type": "code",
      "metadata": {
        "id": "iLuQqqVRnSbz"
      },
      "source": [
        "from sklearn.preprocessing import PolynomialFeatures\r\n",
        "poly_reg = PolynomialFeatures(degree=6)\r\n",
        "X_poly=poly_reg.fit_transform(X)"
      ],
      "execution_count": 42,
      "outputs": []
    },
    {
      "cell_type": "markdown",
      "metadata": {
        "id": "sjZaWqJxzNpW"
      },
      "source": [
        "## **landa=1**"
      ]
    },
    {
      "cell_type": "code",
      "metadata": {
        "colab": {
          "base_uri": "https://localhost:8080/"
        },
        "id": "qHAa2pAsn2_S",
        "outputId": "357f99f0-efea-413f-aaff-a59bb84b8d54"
      },
      "source": [
        "from sklearn.linear_model import LogisticRegression\r\n",
        "classifier=LogisticRegression(C=1,max_iter=100)   # C=1/landa so here landa=1\r\n",
        "classifier.fit(X_poly,y)  # better use y 1D instead of Y 2D"
      ],
      "execution_count": 43,
      "outputs": [
        {
          "output_type": "execute_result",
          "data": {
            "text/plain": [
              "LogisticRegression(C=1, class_weight=None, dual=False, fit_intercept=True,\n",
              "                   intercept_scaling=1, l1_ratio=None, max_iter=100,\n",
              "                   multi_class='auto', n_jobs=None, penalty='l2',\n",
              "                   random_state=None, solver='lbfgs', tol=0.0001, verbose=0,\n",
              "                   warm_start=False)"
            ]
          },
          "metadata": {
            "tags": []
          },
          "execution_count": 43
        }
      ]
    },
    {
      "cell_type": "code",
      "metadata": {
        "colab": {
          "base_uri": "https://localhost:8080/"
        },
        "id": "id-vaVZ2oCrH",
        "outputId": "c28c0807-1569-41ab-9396-4ffb20ade647"
      },
      "source": [
        "classifier.coef_"
      ],
      "execution_count": 44,
      "outputs": [
        {
          "output_type": "execute_result",
          "data": {
            "text/plain": [
              "array([[-9.40316896e-05,  6.25200403e-01,  1.18110372e+00,\n",
              "        -2.01998737e+00, -9.17422545e-01, -1.43161951e+00,\n",
              "         1.24007673e-01, -3.65545995e-01, -3.57235803e-01,\n",
              "        -1.75177398e-01, -1.45813451e+00, -5.09079430e-02,\n",
              "        -6.15531333e-01, -2.74684592e-01, -1.19285084e+00,\n",
              "        -2.42159297e-01, -2.06009268e-01, -4.46834189e-02,\n",
              "        -2.77786348e-01, -2.95378201e-01, -4.56358841e-01,\n",
              "        -1.04313960e+00,  2.78215032e-02, -2.92419721e-01,\n",
              "         1.56135368e-02, -3.27375607e-01, -1.43860298e-01,\n",
              "        -9.24641743e-01]])"
            ]
          },
          "metadata": {
            "tags": []
          },
          "execution_count": 44
        }
      ]
    },
    {
      "cell_type": "code",
      "metadata": {
        "colab": {
          "base_uri": "https://localhost:8080/"
        },
        "id": "4ixEjC6CoGUl",
        "outputId": "c7372a78-0a56-4558-8cbb-32dd14e51006"
      },
      "source": [
        "classifier.intercept_"
      ],
      "execution_count": 45,
      "outputs": [
        {
          "output_type": "execute_result",
          "data": {
            "text/plain": [
              "array([1.27281727])"
            ]
          },
          "metadata": {
            "tags": []
          },
          "execution_count": 45
        }
      ]
    },
    {
      "cell_type": "code",
      "metadata": {
        "colab": {
          "base_uri": "https://localhost:8080/"
        },
        "id": "12UsSpc4oOyv",
        "outputId": "a450d464-4747-4892-f0a2-66bdf0ba0823"
      },
      "source": [
        "P=classifier.predict(X_poly)\r\n",
        "accuracy=np.mean(P==y)\r\n",
        "print(accuracy)"
      ],
      "execution_count": 46,
      "outputs": [
        {
          "output_type": "stream",
          "text": [
            "0.8305084745762712\n"
          ],
          "name": "stdout"
        }
      ]
    },
    {
      "cell_type": "code",
      "metadata": {
        "colab": {
          "base_uri": "https://localhost:8080/",
          "height": 339
        },
        "id": "dCl3IA7Jogb_",
        "outputId": "ade7f3a3-a73b-4cf6-fe6f-dc4f7f50f646"
      },
      "source": [
        "uu,vv=np.meshgrid(np.linspace(-1,1,100),np.linspace(-1,1.2,100))\r\n",
        "XX=np.c_[uu.ravel(),vv.ravel()]\r\n",
        "XX_poly=poly_reg.fit_transform(XX)\r\n",
        "Z=classifier.predict(XX_poly).reshape(uu.shape)\r\n",
        "plt.contour(uu,vv,Z,0)\r\n",
        "neg=(y==0)   # because of defining neg&pos we didnt convert y t0 2D,we use Y as a 2D of y\r\n",
        "pos=(y==1)\r\n",
        "plt.scatter(X[pos,0],X[pos,1],marker='+')\r\n",
        "plt.scatter(X[neg,0],X[neg,1],marker='o')"
      ],
      "execution_count": 47,
      "outputs": [
        {
          "output_type": "stream",
          "text": [
            "/usr/local/lib/python3.6/dist-packages/ipykernel_launcher.py:5: UserWarning: No contour levels were found within the data range.\n",
            "  \"\"\"\n"
          ],
          "name": "stderr"
        },
        {
          "output_type": "execute_result",
          "data": {
            "text/plain": [
              "<matplotlib.collections.PathCollection at 0x7f7abc206a58>"
            ]
          },
          "metadata": {
            "tags": []
          },
          "execution_count": 47
        },
        {
          "output_type": "display_data",
          "data": {
            "image/png": "[encoded data removed]",
            "text/plain": [
              "<Figure size 432x288 with 1 Axes>"
            ]
          },
          "metadata": {
            "tags": [],
            "needs_background": "light"
          }
        }
      ]
    },
    {
      "cell_type": "markdown",
      "metadata": {
        "id": "KEfVwq9Ry_CJ"
      },
      "source": [
        "# **landa~0**"
      ]
    },
    {
      "cell_type": "code",
      "metadata": {
        "colab": {
          "base_uri": "https://localhost:8080/"
        },
        "id": "0tq0rPEiypSc",
        "outputId": "071fec49-8d85-4cd6-bff6-16aef43a064d"
      },
      "source": [
        "from sklearn.linear_model import LogisticRegression\r\n",
        "classifier=LogisticRegression(C=10000,max_iter=4000)   # C=1/landa, for higher c we need higher max_iter\r\n",
        "classifier.fit(X_poly,y)  # better use y 1D instead of Y 2D"
      ],
      "execution_count": 48,
      "outputs": [
        {
          "output_type": "execute_result",
          "data": {
            "text/plain": [
              "LogisticRegression(C=10000, class_weight=None, dual=False, fit_intercept=True,\n",
              "                   intercept_scaling=1, l1_ratio=None, max_iter=4000,\n",
              "                   multi_class='auto', n_jobs=None, penalty='l2',\n",
              "                   random_state=None, solver='lbfgs', tol=0.0001, verbose=0,\n",
              "                   warm_start=False)"
            ]
          },
          "metadata": {
            "tags": []
          },
          "execution_count": 48
        }
      ]
    },
    {
      "cell_type": "code",
      "metadata": {
        "colab": {
          "base_uri": "https://localhost:8080/"
        },
        "id": "ByGeA7Q-yrgj",
        "outputId": "8d6bedb7-9638-46b3-b672-08ad70849356"
      },
      "source": [
        "P=classifier.predict(X_poly)\r\n",
        "accuracy=np.mean(P==y)\r\n",
        "print(accuracy)"
      ],
      "execution_count": 49,
      "outputs": [
        {
          "output_type": "stream",
          "text": [
            "0.8728813559322034\n"
          ],
          "name": "stdout"
        }
      ]
    },
    {
      "cell_type": "code",
      "metadata": {
        "colab": {
          "base_uri": "https://localhost:8080/",
          "height": 339
        },
        "id": "eMaPKUOpyttv",
        "outputId": "72f16b26-d23f-40d2-c4b4-22d0d7a9002e"
      },
      "source": [
        "uu,vv=np.meshgrid(np.linspace(-1,1,100),np.linspace(-1,1.2,100))\r\n",
        "XX=np.c_[uu.ravel(),vv.ravel()]\r\n",
        "XX_poly=poly_reg.fit_transform(XX)\r\n",
        "Z=classifier.predict(XX_poly).reshape(uu.shape)\r\n",
        "plt.contour(uu,vv,Z,0)\r\n",
        "neg=(y==0)   # because of defining neg&pos we didnt convert y t0 2D,we use Y as a 2D of y\r\n",
        "pos=(y==1)\r\n",
        "plt.scatter(X[pos,0],X[pos,1],marker='+')\r\n",
        "plt.scatter(X[neg,0],X[neg,1],marker='o')"
      ],
      "execution_count": 50,
      "outputs": [
        {
          "output_type": "stream",
          "text": [
            "/usr/local/lib/python3.6/dist-packages/ipykernel_launcher.py:5: UserWarning: No contour levels were found within the data range.\n",
            "  \"\"\"\n"
          ],
          "name": "stderr"
        },
        {
          "output_type": "execute_result",
          "data": {
            "text/plain": [
              "<matplotlib.collections.PathCollection at 0x7f7abc1831d0>"
            ]
          },
          "metadata": {
            "tags": []
          },
          "execution_count": 50
        },
        {
          "output_type": "display_data",
          "data": {
            "image/png": "[encoded data removed]",
            "text/plain": [
              "<Figure size 432x288 with 1 Axes>"
            ]
          },
          "metadata": {
            "tags": [],
            "needs_background": "light"
          }
        }
      ]
    }
  ]
}